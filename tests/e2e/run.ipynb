{
 "cells": [
  {
   "attachments": {},
   "cell_type": "markdown",
   "id": "a966abb4-722e-456e-8175-4c4bee9df796",
   "metadata": {
    "collapsed": false,
    "datarobot": {
     "chart_settings": null,
     "custom_llm_metric_settings": null,
     "custom_metric_settings": null,
     "dataframe_view_options": null,
     "disable_run": false,
     "execution_time_millis": null,
     "hide_code": false,
     "hide_results": false,
     "language": "markdown"
    },
    "jupyter": {
     "outputs_hidden": false,
     "source_hidden": false
    },
    "scrolled": false
   },
   "source": [
    "### Log-in to pulumi locally"
   ]
  },
  {
   "cell_type": "code",
   "execution_count": 0,
   "id": "b7a27b84-640f-4b52-bcb0-6644e6684f8c",
   "metadata": {
    "collapsed": false,
    "datarobot": {
     "chart_settings": null,
     "custom_llm_metric_settings": null,
     "custom_metric_settings": null,
     "dataframe_view_options": null,
     "disable_run": false,
     "execution_time_millis": null,
     "hide_code": false,
     "hide_results": false,
     "language": "python"
    },
    "jupyter": {
     "outputs_hidden": false,
     "source_hidden": false
    },
    "scrolled": false
   },
   "outputs": [],
   "source": [
    "!pulumi login --local"
   ]
  },
  {
   "cell_type": "markdown",
   "id": "c135f474",
   "metadata": {},
   "source": [
    "### Install required dependencies"
   ]
  },
  {
   "cell_type": "code",
   "execution_count": null,
   "id": "6e3d1c71-d793-449b-bd03-7a4bbb2e3907",
   "metadata": {
    "collapsed": false,
    "datarobot": {
     "disable_run": false,
     "execution_time_millis": 45745,
     "hide_code": false,
     "hide_results": false,
     "language": "python"
    },
    "jupyter": {
     "outputs_hidden": false,
     "source_hidden": false
    },
    "scrolled": "auto"
   },
   "outputs": [],
   "source": [
    "!pip install -r ../../requirements.txt"
   ]
  },
  {
   "cell_type": "markdown",
   "id": "9e86f227",
   "metadata": {},
   "source": [
    "### Create and Run Pulumi stack"
   ]
  },
  {
   "cell_type": "code",
   "execution_count": null,
   "id": "e61312af-e86b-4bcb-9ea9-7eac61bbf186",
   "metadata": {
    "collapsed": false,
    "datarobot": {
     "chart_settings": null,
     "custom_llm_metric_settings": null,
     "custom_metric_settings": null,
     "dataframe_view_options": null,
     "disable_run": false,
     "execution_time_millis": 3028,
     "hide_code": false,
     "hide_results": false,
     "language": "python"
    },
    "jupyter": {
     "outputs_hidden": false,
     "source_hidden": false
    },
    "name": "Install",
    "scrolled": false
   },
   "outputs": [],
   "source": [
    "cd ../../"
   ]
  },
  {
   "cell_type": "code",
   "execution_count": null,
   "id": "bb0d75ed",
   "metadata": {},
   "outputs": [],
   "source": [
    "!pulumi plugin install\n",
    "!pulumi stack init $PROJECT_NAME --non-interactive"
   ]
  },
  {
   "cell_type": "code",
   "execution_count": null,
   "id": "00f5c120-142a-4aac-83da-a66764ef9062",
   "metadata": {
    "collapsed": false,
    "datarobot": {
     "chart_settings": null,
     "custom_llm_metric_settings": null,
     "custom_metric_settings": null,
     "dataframe_view_options": null,
     "disable_run": false,
     "execution_time_millis": 398532,
     "hide_code": false,
     "hide_results": false,
     "language": "python"
    },
    "jupyter": {
     "outputs_hidden": false,
     "source_hidden": false
    },
    "name": "Up application",
    "scrolled": false
   },
   "outputs": [],
   "source": [
    "!pulumi up -y --non-interactive"
   ]
  },
  {
   "cell_type": "markdown",
   "id": "b4f8d571",
   "metadata": {},
   "source": [
    "### Get the app url from the pulumi stack"
   ]
  },
  {
   "cell_type": "code",
   "execution_count": 0,
   "id": "c083f9ca-a119-4945-b888-d97af888749c",
   "metadata": {
    "collapsed": false,
    "datarobot": {
     "chart_settings": null,
     "custom_llm_metric_settings": null,
     "custom_metric_settings": null,
     "dataframe_view_options": null,
     "disable_run": false,
     "execution_time_millis": null,
     "hide_code": false,
     "hide_results": false,
     "language": "python"
    },
    "jupyter": {
     "outputs_hidden": false,
     "source_hidden": false
    },
    "scrolled": false
   },
   "outputs": [],
   "source": [
    "!pulumi stack output DATAROBOT_APPLICATION_ID | awk '{print \"APP_ID: \" $1}'"
   ]
  }
 ],
 "metadata": {
  "kernelspec": {
   "display_name": "Python 3 (ipykernel)",
   "name": "python3"
  },
  "language_info": {
   "name": "python"
  }
 },
 "nbformat": 4,
 "nbformat_minor": 5
}
